{
 "cells": [
  {
   "cell_type": "code",
   "execution_count": 4,
   "metadata": {},
   "outputs": [
    {
     "name": "stdout",
     "output_type": "stream",
     "text": [
      "Icon_           shakespeare.txt\r\n"
     ]
    }
   ],
   "source": [
    "!ls ./Week-3-UNIX/unix\n"
   ]
  },
  {
   "cell_type": "code",
   "execution_count": 6,
   "metadata": {},
   "outputs": [
    {
     "name": "stdout",
     "output_type": "stream",
     "text": [
      "./Week-3-UNIX/unix/shakespeare.txt\n",
      "./Week-3-UNIX/unix/shakespeare.txt\n"
     ]
    }
   ],
   "source": [
    "file_name = './Week-3-UNIX/unix/shakespeare.txt'\n",
    "!echo $file_name\n",
    "print(file_name)"
   ]
  },
  {
   "cell_type": "code",
   "execution_count": 11,
   "metadata": {},
   "outputs": [
    {
     "name": "stdout",
     "output_type": "stream",
     "text": [
      "This is the 100th Etext file presented by Project Gutenberg, and\r\n",
      "is presented in cooperation with World Library, Inc., from their\r\n",
      "Library of the Future and Shakespeare CDROMS.  Project Gutenberg\r\n",
      "often releases Etexts that are NOT placed in the Public Domain!!\r\n",
      "\r\n",
      "Shakespeare\r\n",
      "\r\n",
      "*This Etext has certain copyright implications you should read!*\r\n",
      "\r\n",
      "<<THIS ELECTRONIC VERSION OF THE COMPLETE WORKS OF WILLIAM\r\n",
      "SHAKESPEARE IS COPYRIGHT 1990-1993 BY WORLD LIBRARY, INC., AND IS\r\n",
      "PROVIDED BY PROJECT GUTENBERG ETEXT OF ILLINOIS BENEDICTINE COLLEGE\r\n",
      "WITH PERMISSION.  ELECTRONIC AND MACHINE READABLE COPIES MAY BE\r\n",
      "DISTRIBUTED SO LONG AS SUCH COPIES (1) ARE FOR YOUR OR OTHERS\r\n",
      "PERSONAL USE ONLY, AND (2) ARE NOT DISTRIBUTED OR USED\r\n",
      "COMMERCIALLY.  PROHIBITED COMMERCIAL DISTRIBUTION INCLUDES BY ANY\r\n",
      "SERVICE THAT CHARGES FOR DOWNLOAD TIME OR FOR MEMBERSHIP.>>\r\n",
      "\r\n",
      "*Project Gutenberg is proud to cooperate with The World Library*\r\n",
      "in the presentation of The Complete Works of William Shakespeare\r\n",
      "for your reading for education and entertainment.  HOWEVER, THIS\r\n",
      "IS NEITHER SHAREWARE NOR PUBLIC DOMAIN. . .AND UNDER THE LIBRARY\r\n",
      "OF THE FUTURE CONDITIONS OF THIS PRESENTATION. . .NO CHARGES MAY\r\n",
      "BE MADE FOR *ANY* ACCESS TO THIS MATERIAL.  YOU ARE ENCOURAGED!!\r\n",
      "TO GIVE IT AWAY TO ANYONE YOU LIKE, BUT NO CHARGES ARE ALLOWED!!\r\n",
      "\r\n",
      "\r\n",
      "**Welcome To The World of Free Plain Vanilla Electronic Texts**\r\n",
      "\r\n",
      "**Etexts Readable By Both Humans and By Computers, Since 1971**\r\n"
     ]
    }
   ],
   "source": [
    "!head -n 30 $file_name\n"
   ]
  },
  {
   "cell_type": "code",
   "execution_count": 10,
   "metadata": {},
   "outputs": [
    {
     "name": "stdout",
     "output_type": "stream",
     "text": [
      "PERSONAL USE ONLY, AND (2) ARE NOT DISTRIBUTED OR USED\r\n",
      "COMMERCIALLY.  PROHIBITED COMMERCIAL DISTRIBUTION INCLUDES BY ANY\r\n",
      "SERVICE THAT CHARGES FOR DOWNLOAD TIME OR FOR MEMBERSHIP.>>\r\n",
      "\r\n",
      "\r\n",
      "\r\n",
      "End of this Etext of The Complete Works of William Shakespeare\r\n",
      "\r\n",
      "\r\n",
      "\r\n"
     ]
    }
   ],
   "source": [
    "!tail -n 10 $file_name"
   ]
  },
  {
   "cell_type": "code",
   "execution_count": 12,
   "metadata": {},
   "outputs": [
    {
     "name": "stdout",
     "output_type": "stream",
     "text": [
      "  124505  901447 5458937 ./Week-3-UNIX/unix/shakespeare.txt\r\n"
     ]
    }
   ],
   "source": [
    "!wc $file_name"
   ]
  },
  {
   "cell_type": "code",
   "execution_count": 13,
   "metadata": {},
   "outputs": [
    {
     "name": "stdout",
     "output_type": "stream",
     "text": [
      "  124505 ./Week-3-UNIX/unix/shakespeare.txt\r\n"
     ]
    }
   ],
   "source": [
    "!wc -l $file_name"
   ]
  },
  {
   "cell_type": "code",
   "execution_count": 18,
   "metadata": {},
   "outputs": [
    {
     "name": "stdout",
     "output_type": "stream",
     "text": [
      "  901447 ./Week-3-UNIX/unix/shakespeare.txt\r\n"
     ]
    }
   ],
   "source": [
    "!wc -w $file_name\n"
   ]
  },
  {
   "cell_type": "code",
   "execution_count": 19,
   "metadata": {},
   "outputs": [
    {
     "name": "stdout",
     "output_type": "stream",
     "text": [
      "  124505\r\n"
     ]
    }
   ],
   "source": [
    "!cat $file_name | wc -l"
   ]
  },
  {
   "cell_type": "code",
   "execution_count": 20,
   "metadata": {},
   "outputs": [
    {
     "name": "stdout",
     "output_type": "stream",
     "text": [
      "  If the skin were parchment, and the blows you gave were ink,\n",
      "  Ham. Is not parchment made of sheepskins?\n",
      "    of the skin of an innocent lamb should be made parchment? That\n",
      "    parchment, being scribbl'd o'er, should undo a man? Some say the\n",
      "    Upon a parchment, and against this fire\n",
      "    But here's a parchment with the seal of Caesar;  \n",
      "    With inky blots and rotten parchment bonds;\n",
      "    Nor brass, nor stone, nor parchment, bears not one,\n"
     ]
    }
   ],
   "source": [
    "!grep -i 'parchment' $file_name"
   ]
  },
  {
   "cell_type": "code",
   "execution_count": 22,
   "metadata": {},
   "outputs": [
    {
     "name": "stdout",
     "output_type": "stream",
     "text": [
      "      71\r\n"
     ]
    }
   ],
   "source": [
    "!cat $file_name | grep -o 'liberty' | wc -l"
   ]
  },
  {
   "cell_type": "code",
   "execution_count": 24,
   "metadata": {},
   "outputs": [],
   "source": [
    "!sed -e 's/parchment/manuscript/g' $file_name > temp.txt"
   ]
  },
  {
   "cell_type": "code",
   "execution_count": 25,
   "metadata": {},
   "outputs": [
    {
     "name": "stdout",
     "output_type": "stream",
     "text": [
      "  If the skin were manuscript, and the blows you gave were ink,\n",
      "  Ham. Is not manuscript made of sheepskins?\n",
      "    of the skin of an innocent lamb should be made manuscript? That\n",
      "    manuscript, being scribbl'd o'er, should undo a man? Some say the\n",
      "    Upon a manuscript, and against this fire\n",
      "    But here's a manuscript with the seal of Caesar;  \n",
      "    With inky blots and rotten manuscript bonds;\n",
      "    Nor brass, nor stone, nor manuscript, bears not one,\n"
     ]
    }
   ],
   "source": [
    "!grep -i 'manuscript' temp.txt"
   ]
  },
  {
   "cell_type": "code",
   "execution_count": 26,
   "metadata": {},
   "outputs": [
    {
     "name": "stdout",
     "output_type": "stream",
     "text": [
      "This is the 100th Etext file presented by Project Gutenberg, and\r\n",
      "is presented in cooperation with World Library, Inc., from their\r\n",
      "Library of the Future and Shakespeare CDROMS.  Project Gutenberg\r\n",
      "often releases Etexts that are NOT placed in the Public Domain!!\r\n",
      "\r\n"
     ]
    }
   ],
   "source": [
    "!head -n 5 $file_name"
   ]
  },
  {
   "cell_type": "code",
   "execution_count": 27,
   "metadata": {},
   "outputs": [
    {
     "name": "stdout",
     "output_type": "stream",
     "text": [
      "\r\n",
      "Library of the Future and Shakespeare CDROMS.  Project Gutenberg\r\n",
      "This is the 100th Etext file presented by Project Gutenberg, and\r\n",
      "is presented in cooperation with World Library, Inc., from their\r\n",
      "often releases Etexts that are NOT placed in the Public Domain!!\r\n"
     ]
    }
   ],
   "source": [
    "!head -n 5 $file_name | sort"
   ]
  },
  {
   "cell_type": "code",
   "execution_count": 29,
   "metadata": {},
   "outputs": [
    {
     "name": "stdout",
     "output_type": "stream",
     "text": [
      "\r\n",
      "This is the 100th Etext file presented by Project Gutenberg, and\r\n",
      "Library of the Future and Shakespeare CDROMS.  Project Gutenberg\r\n",
      "is presented in cooperation with World Library, Inc., from their\r\n",
      "often releases Etexts that are NOT placed in the Public Domain!!\r\n"
     ]
    }
   ],
   "source": [
    "!head -n 5 $file_name | sort -f -t' ' -k2\n"
   ]
  },
  {
   "cell_type": "code",
   "execution_count": 30,
   "metadata": {},
   "outputs": [
    {
     "name": "stdout",
     "output_type": "stream",
     "text": [
      "  124505\r\n"
     ]
    }
   ],
   "source": [
    "!sort $file_name | wc -l"
   ]
  },
  {
   "cell_type": "code",
   "execution_count": 31,
   "metadata": {},
   "outputs": [
    {
     "name": "stdout",
     "output_type": "stream",
     "text": [
      "  110834\r\n"
     ]
    }
   ],
   "source": [
    "!sort $file_name | uniq -u | wc -l"
   ]
  },
  {
   "cell_type": "code",
   "execution_count": 32,
   "metadata": {},
   "outputs": [
    {
     "name": "stdout",
     "output_type": "stream",
     "text": [
      "517068 \r\n",
      "23244 the\r\n",
      "19542 I\r\n",
      "18302 and\r\n",
      "15623 to\r\n",
      "15551 of\r\n",
      "12532 a\r\n",
      "10824 my\r\n",
      "9576 in\r\n",
      "9081 you\r\n",
      "7851 is\r\n",
      "7531 that\r\n",
      "7068 And\r\n",
      "6948 not\r\n",
      "6722 with\r\n",
      "sort: Broken pipe\r\n"
     ]
    }
   ],
   "source": [
    "!sed -e 's/ /\\'$'\\n/g' < $file_name | sort | uniq -c | sort -nr | head -15\n"
   ]
  },
  {
   "cell_type": "code",
   "execution_count": 33,
   "metadata": {},
   "outputs": [
    {
     "name": "stdout",
     "output_type": "stream",
     "text": [
      "sort: Broken pipe\r\n"
     ]
    }
   ],
   "source": [
    "!sed -e 's/ /\\'$'\\n/g' < $file_name | sort | uniq -c | sort -nr | head -15 > count_vs_words\n"
   ]
  },
  {
   "cell_type": "code",
   "execution_count": 35,
   "metadata": {},
   "outputs": [
    {
     "name": "stdout",
     "output_type": "stream",
     "text": [
      "517068 \r\n",
      "23244 the\r\n",
      "19542 I\r\n",
      "18302 and\r\n",
      "15623 to\r\n",
      "15551 of\r\n",
      "12532 a\r\n",
      "10824 my\r\n",
      "9576 in\r\n",
      "9081 you\r\n",
      "7851 is\r\n",
      "7531 that\r\n",
      "7068 And\r\n",
      "6948 not\r\n",
      "6722 with\r\n"
     ]
    }
   ],
   "source": [
    "!cat count_vs_words"
   ]
  },
  {
   "cell_type": "code",
   "execution_count": null,
   "metadata": {},
   "outputs": [],
   "source": []
  }
 ],
 "metadata": {
  "kernelspec": {
   "display_name": "Python 3",
   "language": "python",
   "name": "python3"
  },
  "language_info": {
   "codemirror_mode": {
    "name": "ipython",
    "version": 3
   },
   "file_extension": ".py",
   "mimetype": "text/x-python",
   "name": "python",
   "nbconvert_exporter": "python",
   "pygments_lexer": "ipython3",
   "version": "3.7.3"
  }
 },
 "nbformat": 4,
 "nbformat_minor": 2
}
